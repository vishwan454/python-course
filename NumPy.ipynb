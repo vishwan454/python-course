{
 "cells": [
  {
   "cell_type": "markdown",
   "id": "24188e1f",
   "metadata": {},
   "source": [
    "- ### NumPy (short for Numerical Python) is the fundamental package for scientific computing in Python. \n",
    "- ### Main reference: NumPy User Guide Release 1.18.4 written by the NumPy community.\n",
    "- ### It is a Python library that is used to work with arrays by providing a multidimensional array object (ndarray object are n-dimensional arrays of homogeneous data types) and performs various mathematical operations on them. \n",
    "- ### NumPy is extremely useful in making calculations and data analysis in Python.\n",
    "- ### There are several important differences between NumPy arrays and the standard Python sequences (list datatypes)\n",
    "  - #### NumPy arrays have a fixed size at creation, unlike Python lists (which can grow dynamically). Changing the size of an ndarray will create a new array and delete the original.\n",
    "  - #### The elements in a NumPy array are all required to be of the same data type.\n",
    "  - #### NumPy arrays facilitate advanced mathematical and other types of operations on large numbers of data. Typically, such operations are executed more efficiently and with less code than is possible using Python’s built-in sequences.\n",
    "- ### NumPy is not in-built in Python and we load/import the NumPy library (standard to use 'np' as a short name)."
   ]
  },
  {
   "cell_type": "code",
   "execution_count": 10,
   "id": "5f641c22",
   "metadata": {},
   "outputs": [],
   "source": [
    "import numpy as np"
   ]
  },
  {
   "cell_type": "markdown",
   "id": "31be8de3",
   "metadata": {},
   "source": [
    "### NumPy Array\n",
    "- ### We can create a NumPy ndarray object by using the array() function. array is not inbuilt and we have to call it by writing np.array() (otherwise we will get name error).\n",
    "- ### Elements of a NumPy array can be assigned using a list or tuple."
   ]
  },
  {
   "cell_type": "code",
   "execution_count": 11,
   "id": "e43399ef",
   "metadata": {},
   "outputs": [
    {
     "name": "stdout",
     "output_type": "stream",
     "text": [
      "[1 3 5]\n",
      "[2 4 6]\n"
     ]
    }
   ],
   "source": [
    "array_1= np.array([1, 3, 5])\n",
    "array_2= np.array((2, 4, 6))\n",
    "print(array_1)\n",
    "print(array_2)"
   ]
  },
  {
   "cell_type": "code",
   "execution_count": 12,
   "id": "b241eac6",
   "metadata": {
    "scrolled": true
   },
   "outputs": [
    {
     "name": "stdout",
     "output_type": "stream",
     "text": [
      "<class 'numpy.ndarray'>\n",
      "<class 'numpy.ndarray'>\n"
     ]
    }
   ],
   "source": [
    "#The two arrays above appears like list but the are of numpy.ndarray array data types.\n",
    "print(type(array_1))\n",
    "print(type(array_2))"
   ]
  },
  {
   "cell_type": "code",
   "execution_count": 13,
   "id": "abc62ad8",
   "metadata": {
    "scrolled": true
   },
   "outputs": [
    {
     "name": "stdout",
     "output_type": "stream",
     "text": [
      "zero_d_array 10\n",
      "one_d_array [1 2 3]\n",
      "two_d_array [[ 1  2  3  4  5]\n",
      " [ 6  7  8  9 10]]\n",
      "three_d_array [[[ 1  2  3  4  5]\n",
      "  [ 6  7  8  9 10]]\n",
      "\n",
      " [[11 12 13 14 15]\n",
      "  [16 17 18 19 20]]]\n"
     ]
    }
   ],
   "source": [
    "#A dimension in arrays is one level of array depth (nested arrays).\n",
    "#0-D arrays, or Scalars, are the elements in an array. Each value in an array is a 0-D array.\n",
    "zero_d_array= np.array(10)\n",
    "print('zero_d_array', zero_d_array)\n",
    "#An array that has 0-D arrays as its elements is called uni-dimensional or 1-D array.\n",
    "one_d_array= np.array([1,2,3])\n",
    "print('one_d_array', one_d_array)\n",
    "#An array that has 1-D arrays as its elements is called a 2-D array.These are often used to represent matrix.\n",
    "two_d_array = np.array([[1,2,3,4,5], [6,7,8,9,10]])\n",
    "print('two_d_array', two_d_array)\n",
    "#An array that has 2-D arrays (matrices) as its elements is called 3-D array.\n",
    "three_d_array = np.array([[[1,2,3,4,5], [6,7,8,9,10]],[[11,12,13,14,15],[16,17,18,19,20]]] )\n",
    "print('three_d_array', three_d_array)"
   ]
  },
  {
   "cell_type": "code",
   "execution_count": 14,
   "id": "5831786f",
   "metadata": {},
   "outputs": [
    {
     "name": "stdout",
     "output_type": "stream",
     "text": [
      "0\n",
      "1\n",
      "2\n",
      "3\n"
     ]
    }
   ],
   "source": [
    "#arrayname.ndim returns the number of dimensions of an array.\n",
    "print(zero_d_array.ndim)\n",
    "print(one_d_array.ndim)\n",
    "print(two_d_array.ndim)\n",
    "print(three_d_array.ndim)"
   ]
  },
  {
   "cell_type": "code",
   "execution_count": 15,
   "id": "79ea255d",
   "metadata": {},
   "outputs": [
    {
     "name": "stdout",
     "output_type": "stream",
     "text": [
      "[1 2 3]\n",
      "3\n"
     ]
    }
   ],
   "source": [
    "#NumPy arrays are indexed like lists.\n",
    "print(one_d_array)\n",
    "print(one_d_array[2])"
   ]
  },
  {
   "cell_type": "code",
   "execution_count": 16,
   "id": "6b491aeb",
   "metadata": {},
   "outputs": [
    {
     "name": "stdout",
     "output_type": "stream",
     "text": [
      "[[ 1  2  3  4  5]\n",
      " [ 6  7  8  9 10]]\n",
      "2\n"
     ]
    }
   ],
   "source": [
    "print(two_d_array)\n",
    "print(two_d_array[0, 1]) #this is different from lists: [0][1]"
   ]
  },
  {
   "cell_type": "code",
   "execution_count": 17,
   "id": "a8334d35",
   "metadata": {},
   "outputs": [
    {
     "name": "stdout",
     "output_type": "stream",
     "text": [
      "int32\n",
      "int32\n",
      "int32\n",
      "int32\n",
      "float64\n"
     ]
    }
   ],
   "source": [
    "#arrayname.dtype returns the data type of the array.\n",
    "print(zero_d_array.dtype)\n",
    "print(one_d_array.dtype)\n",
    "print(two_d_array.dtype)\n",
    "print(three_d_array.dtype)\n",
    "float_array= np.array([(1.2,2.3,3.4)])\n",
    "print(float_array.dtype)"
   ]
  },
  {
   "cell_type": "code",
   "execution_count": 18,
   "id": "0777e284",
   "metadata": {},
   "outputs": [
    {
     "name": "stdout",
     "output_type": "stream",
     "text": [
      "[2 3 4]\n",
      "[0 1 2 3 4]\n",
      "[2 3 4 5]\n",
      "[0 1 2 3 4 5]\n",
      "[0 2 4]\n",
      "[4 5]\n"
     ]
    }
   ],
   "source": [
    "#Array slicing: extract a portion of an array or create views on the original array without copying data.\n",
    "# syntax for 1-d array: [start_index:end_index:step]\n",
    "#start_index and end_index are zero, and step is 1 by default (if unspecified).\n",
    "arr = np.array([0, 1, 2, 3, 4, 5])\n",
    "sliced_arr_1 = arr[2:5]  # Elements from index 2 to 4\n",
    "print(sliced_arr_1)\n",
    "sliced_arr_2 = arr[:5]  # Elements from index 0 to 4\n",
    "print(sliced_arr_2)\n",
    "sliced_arr_3 = arr[2:]  # Elements from index 2 to the last item\n",
    "print(sliced_arr_3)\n",
    "sliced_arr_4 = arr[:]  # All Elements from start to end index\n",
    "print(sliced_arr_4)\n",
    "sliced_arr_5 = arr[::2]  # every second item from start to end as the step is 2 and start and end are unspecified.\n",
    "print(sliced_arr_5) \n",
    "sliced_arr_6 = arr[-2:]  # last 2 Elements using the negative index -2 for the second last item.\n",
    "print(sliced_arr_6)"
   ]
  },
  {
   "cell_type": "code",
   "execution_count": 19,
   "id": "97698a56",
   "metadata": {
    "scrolled": true
   },
   "outputs": [
    {
     "name": "stdout",
     "output_type": "stream",
     "text": [
      "given array [[0 1 2]\n",
      " [3 4 5]\n",
      " [6 7 8]]\n",
      "items at index 1 and 2 of the second element [4 5]\n",
      "items at index 1 of second and third element [4 7]\n",
      "items at index 1 onwards for elements at index one onwards [[4 5]\n",
      " [7 8]]\n"
     ]
    }
   ],
   "source": [
    "arr_2d = np.array([[0, 1, 2], [3, 4, 5], [6, 7, 8]])\n",
    "print(\"given array\",arr_2d) \n",
    "print(\"items at index 1 and 2 of the second element\",arr_2d[1, 1:3]) #returns 1-d array\n",
    "print(\"items at index 1 of second and third element\",arr_2d[1:3, 1]) #returns 1-d array\n",
    "print(\"items at index 1 onwards for elements at index one onwards\",arr_2d[1:, 1:]) #returns 2-d array; Rows from index 1 onwards, columns from index 1 onwards"
   ]
  },
  {
   "cell_type": "code",
   "execution_count": 20,
   "id": "36397ec4",
   "metadata": {},
   "outputs": [
    {
     "name": "stdout",
     "output_type": "stream",
     "text": [
      "[  0   1 100   3   4   5]\n",
      "[[  0   1   2]\n",
      " [  3   4 100]\n",
      " [  6   7   8]]\n"
     ]
    }
   ],
   "source": [
    "#we can use indexing to modify a given array.\n",
    "arr[2]=100\n",
    "print(arr)\n",
    "arr_2d[1,2]=100\n",
    "print(arr_2d)"
   ]
  },
  {
   "cell_type": "code",
   "execution_count": 21,
   "id": "339293b0",
   "metadata": {},
   "outputs": [
    {
     "name": "stdout",
     "output_type": "stream",
     "text": [
      "original array [1 2 3 4 5]\n",
      "modified copy of the original [ 1  2 99  4  5]\n"
     ]
    }
   ],
   "source": [
    "# Making copy of an array: A copy is a new array with a new memory location that is completely independent of the original array.\n",
    "# .copy() or np.copy(arrayname)methods copies an array to another variable. \n",
    "# Modifications to the copied array do not affect the original array, and vice versa.\n",
    "arr = np.array([1, 2, 3, 4, 5])\n",
    "arr_copy = arr.copy()\n",
    "arr_copy[2] = 99\n",
    "print(\"original array\", arr)        # Original array is not affected\n",
    "print(\"modified copy of the original\", arr_copy)   # Copied array is modified"
   ]
  },
  {
   "cell_type": "code",
   "execution_count": 22,
   "id": "c91999da",
   "metadata": {},
   "outputs": [
    {
     "name": "stdout",
     "output_type": "stream",
     "text": [
      "[1 2 3 4 5]\n",
      "[  1   2 100  50   5]\n",
      "[  2 100  50]\n",
      "[  1   2 100  50   5]\n"
     ]
    }
   ],
   "source": [
    "# View of an array in NumPy: A view is a new array that refers to the same data as the original array.\n",
    "# Unlike copy, modifications to the view array affect the original array, and vice versa.\n",
    "# slicing or .view() methods creates array views.\n",
    "print(arr)\n",
    "arr_view_1 = arr[1:4]  # Creates a view\n",
    "arr_view_2=arr.view()\n",
    "arr_view_1[1] = 100\n",
    "arr_view_2[3]=50\n",
    "print(arr)        # Original array is modified\n",
    "print(arr_view_1)   # View is also modified\n",
    "print(arr_view_2)"
   ]
  },
  {
   "cell_type": "code",
   "execution_count": 23,
   "id": "931fd08b",
   "metadata": {},
   "outputs": [
    {
     "name": "stdout",
     "output_type": "stream",
     "text": [
      "None\n",
      "[  1   2 100  50   5]\n"
     ]
    }
   ],
   "source": [
    "# To check if an array is a copy or a view, we can use arrayname.base command\n",
    "print(arr_copy.base)  # copy returns None (copy)\n",
    "print(arr_view_2.base)  # view returns the original array "
   ]
  },
  {
   "cell_type": "code",
   "execution_count": 24,
   "id": "10a8032f",
   "metadata": {},
   "outputs": [
    {
     "name": "stdout",
     "output_type": "stream",
     "text": [
      "True\n",
      "False\n"
     ]
    }
   ],
   "source": [
    "# Alternatively, flags.owndata attribute provides information whether the array owns its data or is a view.\n",
    "print(arr_copy.flags.owndata)  # True (A copy owns its data and doesn't affect the original array)\n",
    "print(arr_view_1.flags.owndata)  # False (A view doesn't own its data)"
   ]
  },
  {
   "cell_type": "code",
   "execution_count": 25,
   "id": "e0497445",
   "metadata": {},
   "outputs": [
    {
     "name": "stdout",
     "output_type": "stream",
     "text": [
      "(3,)\n",
      "(2, 3)\n"
     ]
    }
   ],
   "source": [
    "#shape of an array: number of items in each dimension.\n",
    "#The .shape() attribute of a NumPy array provides a tuple representing the size of each dimension.\n",
    "arr_1_d=np.array((1, 2, 3))\n",
    "print(arr_1_d.shape )        # A 1D array has a shape tuple with one element. Output(3,)      \n",
    "arr_2_d = np.array([[1, 2, 3], [4, 5, 6]]) #the array has 2 dimensions, where the first dimension has 2 elements and the second has 3.\n",
    "print(arr_2_d.shape)  # A 2D array has a shape tuple with two elements representing rows and columns. Output: (2, 3) - 2 rows, 3 columns\n"
   ]
  },
  {
   "cell_type": "code",
   "execution_count": 26,
   "id": "43196612",
   "metadata": {},
   "outputs": [
    {
     "name": "stdout",
     "output_type": "stream",
     "text": [
      "[1 2 3 4 5 6]\n",
      "[[1 2 3]\n",
      " [4 5 6]]\n",
      "(2, 3)\n"
     ]
    }
   ],
   "source": [
    "# Changing the Shape: reshape() method creates a new array with a different shape but the same data.\n",
    "#reshaping alters the number of dimensions and adjust the quantity of elements within each dimension.\n",
    "#while reshaping we need to ensure that the product of the dimensions is equal to the total number of items.\n",
    "arr = np.array([1, 2, 3, 4, 5, 6])\n",
    "reshaped_arr = arr.reshape((2, 3))\n",
    "print(arr)\n",
    "print(reshaped_arr)\n",
    "print(reshaped_arr.shape)  # Output: (2, 3)"
   ]
  },
  {
   "cell_type": "code",
   "execution_count": 27,
   "id": "89986e21",
   "metadata": {},
   "outputs": [
    {
     "name": "stdout",
     "output_type": "stream",
     "text": [
      "[1 2 3 4 5 6]\n",
      "False\n"
     ]
    }
   ],
   "source": [
    "#reshaping creates a view and not a copy.\n",
    "#Check if the returned array is a copy or a view\n",
    "print(reshaped_arr.base)\n",
    "print(reshaped_arr.flags.owndata)"
   ]
  },
  {
   "cell_type": "code",
   "execution_count": 28,
   "id": "5791a159",
   "metadata": {},
   "outputs": [
    {
     "name": "stdout",
     "output_type": "stream",
     "text": [
      "[[1 2 3]\n",
      " [4 5 6]]\n",
      "(2, 3)\n",
      "[[1 2 3]\n",
      " [4 5 6]\n",
      " [0 0 0]]\n",
      "(3, 3)\n"
     ]
    }
   ],
   "source": [
    "#The resize function modifies the shape of an array in-place. \n",
    "#If the new size is larger, it add zeros as elements; if smaller, it truncates elements.\n",
    "arr = np.array([1, 2, 3, 4, 5, 6])\n",
    "arr.resize((2, 3))\n",
    "print(arr)\n",
    "print(arr.shape)  # Output: (2, 3)\n",
    "arr.resize((3, 3))\n",
    "print(arr)\n",
    "print(arr.shape) "
   ]
  },
  {
   "cell_type": "code",
   "execution_count": 29,
   "id": "9cbcd939",
   "metadata": {},
   "outputs": [
    {
     "name": "stdout",
     "output_type": "stream",
     "text": [
      "[1 2 3 4 5 6]\n",
      "(6,)\n"
     ]
    }
   ],
   "source": [
    "#The .flatten() method returns a 1D array containing the same data. \n",
    "#It effectively collapses all dimensions into one dimension.\n",
    "#alternative command is .reshape(-1)\n",
    "arr = np.array([[1, 2, 3], [4, 5, 6]])\n",
    "flattened_arr = arr.flatten()\n",
    "#flattened_arr = arr.reshape(-1)\n",
    "print(flattened_arr)\n",
    "print(flattened_arr.shape)\n"
   ]
  },
  {
   "cell_type": "code",
   "execution_count": 30,
   "id": "d1172f47",
   "metadata": {},
   "outputs": [
    {
     "name": "stdout",
     "output_type": "stream",
     "text": [
      "[[1 4]\n",
      " [2 5]\n",
      " [3 6]]\n",
      "(3, 2)\n"
     ]
    }
   ],
   "source": [
    "#Transposing a 2-D array swaps its rows and columns.\n",
    "arr = np.array([[1, 2, 3], [4, 5, 6]])\n",
    "arr_transpose= arr.transpose()\n",
    "print(arr_transpose)\n",
    "print(arr_transpose.shape)"
   ]
  },
  {
   "cell_type": "code",
   "execution_count": 31,
   "id": "11a8c49c",
   "metadata": {},
   "outputs": [
    {
     "name": "stdout",
     "output_type": "stream",
     "text": [
      "[1 3 5 2 4 6]\n"
     ]
    }
   ],
   "source": [
    "#Joining means putting contents of two or more arrays in a single array.\n",
    "#NumPy joins arrays by axes\n",
    "#.concatenate() function is used to join arrays.\n",
    "arr1 = np.array([1, 3, 5])\n",
    "\n",
    "arr2 = np.array([2, 4, 6])\n",
    "\n",
    "arr = np.concatenate((arr1, arr2))\n",
    "\n",
    "print(arr)"
   ]
  },
  {
   "cell_type": "code",
   "execution_count": 32,
   "id": "92e49b87",
   "metadata": {},
   "outputs": [
    {
     "name": "stdout",
     "output_type": "stream",
     "text": [
      "[[1 2 5 6]\n",
      " [3 4 7 8]]\n"
     ]
    }
   ],
   "source": [
    "#joining a 2-d arrray\n",
    "arr1 = np.array([[1, 2], [3, 4]])\n",
    "\n",
    "arr2 = np.array([[5, 6], [7, 8]])\n",
    "\n",
    "arr = np.concatenate((arr1, arr2), axis=1)\n",
    "\n",
    "print(arr)"
   ]
  },
  {
   "cell_type": "code",
   "execution_count": 33,
   "id": "4579ce3c",
   "metadata": {},
   "outputs": [
    {
     "name": "stdout",
     "output_type": "stream",
     "text": [
      "[array([1, 2]), array([3, 4]), array([5, 6])]\n",
      "<class 'list'>\n"
     ]
    }
   ],
   "source": [
    "#Splitting is reverse operation of Joining.\n",
    "#Splitting breaks one array into multiple.\n",
    "#array_split() splits an array, we pass it the array we want to split and the number of splits.\n",
    "arr = np.array([1, 2, 3, 4, 5, 6])\n",
    "\n",
    "newarr = np.array_split(arr, 3)\n",
    "\n",
    "print(newarr)\n",
    "print(type(newarr)) #The return value is a list containing three arrays."
   ]
  },
  {
   "cell_type": "code",
   "execution_count": 34,
   "id": "ba13b0c2",
   "metadata": {},
   "outputs": [
    {
     "name": "stdout",
     "output_type": "stream",
     "text": [
      "[array([1, 2]), array([3, 4]), array([5]), array([6])]\n"
     ]
    }
   ],
   "source": [
    "#If the array has less elements than required, it will adjust from the end accordingly.\n",
    "newarr_1 = np.array_split(arr, 4)\n",
    "print(newarr_1)"
   ]
  },
  {
   "cell_type": "code",
   "execution_count": 35,
   "id": "7fcc07f2",
   "metadata": {},
   "outputs": [
    {
     "name": "stdout",
     "output_type": "stream",
     "text": [
      "[array([[1, 2],\n",
      "       [3, 4]]), array([[5, 6],\n",
      "       [7, 8]]), array([[ 9, 10],\n",
      "       [11, 12]])]\n"
     ]
    }
   ],
   "source": [
    "#Split a 2-D array into three 2-D arrays.\n",
    "arr = np.array([[1, 2], [3, 4], [5, 6], [7, 8], [9, 10], [11, 12]])\n",
    "\n",
    "newarr = np.array_split(arr, 3)\n",
    "print(newarr)"
   ]
  },
  {
   "cell_type": "code",
   "execution_count": 36,
   "id": "edfa2564",
   "metadata": {},
   "outputs": [
    {
     "name": "stdout",
     "output_type": "stream",
     "text": [
      "[array([[ 1],\n",
      "       [ 3],\n",
      "       [ 5],\n",
      "       [ 7],\n",
      "       [ 9],\n",
      "       [11]]), array([[ 2],\n",
      "       [ 4],\n",
      "       [ 6],\n",
      "       [ 8],\n",
      "       [10],\n",
      "       [12]])]\n"
     ]
    }
   ],
   "source": [
    "newarr = np.array_split(arr, 2, axis=1)\n",
    "print(newarr)"
   ]
  },
  {
   "cell_type": "code",
   "execution_count": 37,
   "id": "9addd079",
   "metadata": {},
   "outputs": [
    {
     "name": "stdout",
     "output_type": "stream",
     "text": [
      "(array([3, 5, 6], dtype=int64),)\n"
     ]
    }
   ],
   "source": [
    "# searching in an array.\n",
    "#where() method searches an array for a certain value, and return the indexes that get a match.\n",
    "arr = np.array([1, 2, 3, 4, 5, 4, 4])\n",
    "\n",
    "x = np.where(arr == 4)\n",
    "\n",
    "print(x)"
   ]
  },
  {
   "cell_type": "code",
   "execution_count": 38,
   "id": "de8a4d47",
   "metadata": {},
   "outputs": [
    {
     "name": "stdout",
     "output_type": "stream",
     "text": [
      "(array([1, 3, 5, 7], dtype=int64),)\n"
     ]
    }
   ],
   "source": [
    "# we can provide conditional statements in where() method. Ex: Find the indexes where the values are even\n",
    "arr = np.array([1, 2, 3, 4, 5, 6, 7, 8])\n",
    "\n",
    "x = np.where(arr%2 == 0)\n",
    "\n",
    "print(x)"
   ]
  },
  {
   "cell_type": "code",
   "execution_count": 39,
   "id": "82ca2d49",
   "metadata": {},
   "outputs": [
    {
     "name": "stdout",
     "output_type": "stream",
     "text": [
      "[0 1 2 3 5]\n"
     ]
    }
   ],
   "source": [
    "# sorting arrays using np.sort(arrayname)\n",
    "arr = np.array([5, 3, 0, 1, 2])\n",
    "\n",
    "print(np.sort(arr))\n"
   ]
  },
  {
   "cell_type": "code",
   "execution_count": 40,
   "id": "53d6eb41",
   "metadata": {},
   "outputs": [
    {
     "name": "stdout",
     "output_type": "stream",
     "text": [
      "[5 3 2 1 0]\n"
     ]
    }
   ],
   "source": [
    "sorted_arr_reverse = np.sort(arr)[::-1]\n",
    "print(sorted_arr_reverse)"
   ]
  },
  {
   "cell_type": "code",
   "execution_count": 41,
   "id": "ab79af2e",
   "metadata": {},
   "outputs": [
    {
     "name": "stdout",
     "output_type": "stream",
     "text": [
      "[1 3]\n"
     ]
    }
   ],
   "source": [
    "#Filtering Arrays: Getting some elements out of an existing array and creating a new array out of them is called filtering.\n",
    "#In NumPy, we can filter an array using a boolean index list.\n",
    "#A boolean index list is a list of booleans corresponding to indexes in the array.\n",
    "#If the value at an index is True that element is contained in the filtered array.\n",
    "#if the value at that index is False that element is excluded from the filtered array.\n",
    "arr = np.array([1, 2, 3, 4])\n",
    "\n",
    "x = [True, False, True, False]\n",
    "\n",
    "newarr = arr[x]\n",
    "\n",
    "print(newarr)"
   ]
  },
  {
   "cell_type": "code",
   "execution_count": 42,
   "id": "a75b3e55",
   "metadata": {},
   "outputs": [
    {
     "name": "stdout",
     "output_type": "stream",
     "text": [
      "[False False False False False  True  True  True  True  True]\n",
      "[ 6  7  8  9 10]\n"
     ]
    }
   ],
   "source": [
    "#In the example above we hard-coded the True and False values.\n",
    "#but the common use is to create a filter array based on conditions.\n",
    "arr = np.array([1,2,3,4,5,6,7,8,9,10])\n",
    "filter_arr = arr > 5\n",
    "\n",
    "newarr = arr[filter_arr]\n",
    "\n",
    "print(filter_arr)\n",
    "print(newarr)"
   ]
  },
  {
   "cell_type": "code",
   "execution_count": 43,
   "id": "eebb5c61",
   "metadata": {},
   "outputs": [
    {
     "name": "stdout",
     "output_type": "stream",
     "text": [
      "[ True False  True False  True False  True False  True False]\n",
      "[1 3 5 7 9]\n"
     ]
    }
   ],
   "source": [
    "arr = np.array([1,2,3,4,5,6,7,8,9,10])\n",
    "filter_arr = arr%2==1\n",
    "newarr = arr[filter_arr]\n",
    "\n",
    "print(filter_arr)\n",
    "print(newarr)"
   ]
  },
  {
   "cell_type": "code",
   "execution_count": 44,
   "id": "47883848",
   "metadata": {
    "scrolled": true
   },
   "outputs": [
    {
     "name": "stdout",
     "output_type": "stream",
     "text": [
      "[1 4 9]\n",
      "[5 7 9]\n",
      "[-3 -3 -3]\n",
      "[ 4 10 18]\n",
      "[0.25 0.4  0.5 ]\n",
      "[1 2 3]\n",
      "[4 2 2]\n"
     ]
    }
   ],
   "source": [
    "#basic operations: (Arrays dimensions needs to be same)\n",
    "#1-D arrays\n",
    "A= np.array([1, 2, 3])\n",
    "B= np.array((4, 5, 6))\n",
    "print(A**2)\n",
    "print(A+B)\n",
    "print(A-B)\n",
    "print(A*B)\n",
    "print(A/B)\n",
    "print(A%B)\n",
    "print(B//A)"
   ]
  },
  {
   "cell_type": "code",
   "execution_count": 64,
   "id": "613934d3",
   "metadata": {},
   "outputs": [
    {
     "ename": "ValueError",
     "evalue": "operands could not be broadcast together with shapes (3,) (4,) ",
     "output_type": "error",
     "traceback": [
      "\u001b[1;31m---------------------------------------------------------------------------\u001b[0m",
      "\u001b[1;31mValueError\u001b[0m                                Traceback (most recent call last)",
      "\u001b[1;32m~\\AppData\\Local\\Temp\\ipykernel_11780\\3706338342.py\u001b[0m in \u001b[0;36m<module>\u001b[1;34m\u001b[0m\n\u001b[0;32m      1\u001b[0m \u001b[0mA\u001b[0m\u001b[1;33m=\u001b[0m \u001b[0mnp\u001b[0m\u001b[1;33m.\u001b[0m\u001b[0marray\u001b[0m\u001b[1;33m(\u001b[0m\u001b[1;33m[\u001b[0m\u001b[1;36m1\u001b[0m\u001b[1;33m,\u001b[0m \u001b[1;36m2\u001b[0m\u001b[1;33m,\u001b[0m \u001b[1;36m3\u001b[0m\u001b[1;33m]\u001b[0m\u001b[1;33m)\u001b[0m\u001b[1;33m\u001b[0m\u001b[1;33m\u001b[0m\u001b[0m\n\u001b[0;32m      2\u001b[0m \u001b[0mB\u001b[0m\u001b[1;33m=\u001b[0m \u001b[0mnp\u001b[0m\u001b[1;33m.\u001b[0m\u001b[0marray\u001b[0m\u001b[1;33m(\u001b[0m\u001b[1;33m(\u001b[0m\u001b[1;36m4\u001b[0m\u001b[1;33m,\u001b[0m \u001b[1;36m5\u001b[0m\u001b[1;33m,\u001b[0m \u001b[1;36m6\u001b[0m\u001b[1;33m,\u001b[0m\u001b[1;36m7\u001b[0m\u001b[1;33m)\u001b[0m\u001b[1;33m)\u001b[0m\u001b[1;33m\u001b[0m\u001b[1;33m\u001b[0m\u001b[0m\n\u001b[1;32m----> 3\u001b[1;33m \u001b[0mprint\u001b[0m\u001b[1;33m(\u001b[0m\u001b[0mA\u001b[0m\u001b[1;33m+\u001b[0m\u001b[0mB\u001b[0m\u001b[1;33m)\u001b[0m\u001b[1;33m\u001b[0m\u001b[1;33m\u001b[0m\u001b[0m\n\u001b[0m",
      "\u001b[1;31mValueError\u001b[0m: operands could not be broadcast together with shapes (3,) (4,) "
     ]
    }
   ],
   "source": [
    "A= np.array([1, 2, 3])\n",
    "B= np.array((4, 5, 6,7))\n",
    "print(A+B)"
   ]
  },
  {
   "cell_type": "code",
   "execution_count": 45,
   "id": "314066c6",
   "metadata": {
    "scrolled": true
   },
   "outputs": [
    {
     "name": "stdout",
     "output_type": "stream",
     "text": [
      "[[ 8 10 12]\n",
      " [14 16 18]]\n",
      "[[-6 -6 -6]\n",
      " [-6 -6 -6]]\n",
      "[[ 7 16 27]\n",
      " [40 55 72]]\n",
      "[[0.14285714 0.25       0.33333333]\n",
      " [0.4        0.45454545 0.5       ]]\n"
     ]
    }
   ],
   "source": [
    "#Basic operations on 2 D arrays:\n",
    "C= np.array([[1, 2, 3], [4, 5, 6]])\n",
    "D= np.array([[7, 8, 9], [10, 11, 12]])\n",
    "print(C+D)\n",
    "print(C-D)\n",
    "print(C*D)\n",
    "print(C/D)"
   ]
  },
  {
   "cell_type": "code",
   "execution_count": 46,
   "id": "72488aae",
   "metadata": {
    "scrolled": true
   },
   "outputs": [
    {
     "name": "stdout",
     "output_type": "stream",
     "text": [
      "<class 'list'>\n",
      "[5 7 9]\n",
      "<class 'numpy.ndarray'>\n",
      "[5 7 9]\n",
      "<class 'numpy.ndarray'>\n"
     ]
    }
   ],
   "source": [
    "#Universal functions in NumPy\n",
    "# add(array1, array2) adds corresponding items in two arrays or lists. \n",
    "list1=[1,2,3]\n",
    "print(type(list1))\n",
    "list2=[4,5,6]\n",
    "print(np.add(list1,list2))\n",
    "print(type(np.add(list1,list2)))\n",
    "arr1=np.array([1,2,3])\n",
    "arr2=np.array([4,5,6])\n",
    "print(np.add(arr1,arr2))\n",
    "print(type(np.add(arr1,arr2)))"
   ]
  },
  {
   "cell_type": "code",
   "execution_count": 47,
   "id": "653ab0a9",
   "metadata": {},
   "outputs": [
    {
     "name": "stdout",
     "output_type": "stream",
     "text": [
      "[ 4 10 18]\n"
     ]
    }
   ],
   "source": [
    "#similarly, we have subtract, multiply, divide, power, mod, remainder, absolute\n",
    "arr1=np.array([1,2,3])\n",
    "arr2=np.array([4,5,6])\n",
    "print(np.multiply(arr1,arr2))"
   ]
  },
  {
   "cell_type": "code",
   "execution_count": 48,
   "id": "d248219c",
   "metadata": {
    "scrolled": true
   },
   "outputs": [
    {
     "name": "stdout",
     "output_type": "stream",
     "text": [
      "[ 8 10 12]\n"
     ]
    }
   ],
   "source": [
    "arr1=np.array([1,2,3])\n",
    "arr2=np.array([4,5,6])\n",
    "arr3=np.array([7,8,9])\n",
    "print(np.add(arr1, arr3))"
   ]
  },
  {
   "cell_type": "code",
   "execution_count": 49,
   "id": "7c0fda00",
   "metadata": {},
   "outputs": [
    {
     "name": "stdout",
     "output_type": "stream",
     "text": [
      "[1 2 3 4 5 6 7]\n",
      "Union: [1 2 3 4 5 6]\n",
      "Intersection: [1 2]\n",
      "Difference: [3 4]\n"
     ]
    }
   ],
   "source": [
    "#set operations in numpy: unique, union, intersection, setdifference, etc.\n",
    "print(np.unique(np.array([1, 1, 1, 2, 3, 4, 5, 5, 6, 7]))) #unique() returns unique elements from any 1-D array\n",
    "arr_1= np.array([1,1,2,3,4,4])\n",
    "arr_2=np.array([1,2,5,6])\n",
    "arr_union= np.union1d(arr_1,arr_2)\n",
    "print(\"Union:\", arr_union)\n",
    "arr_intersection=np.intersect1d(arr_1,arr_2)\n",
    "print(\"Intersection:\",arr_intersection)\n",
    "arr_diff=np.setdiff1d(arr_1,arr_2)\n",
    "print(\"Difference:\",arr_diff)\n"
   ]
  },
  {
   "cell_type": "code",
   "execution_count": 50,
   "id": "d669eb0b",
   "metadata": {},
   "outputs": [
    {
     "name": "stdout",
     "output_type": "stream",
     "text": [
      "32\n"
     ]
    }
   ],
   "source": [
    "#Dot product of vectors:\n",
    "vector_1= np.array([1, 2, 3])\n",
    "vector_2=np.array([4,5,6])\n",
    "print(np.dot(vector_1, vector_2)) #dot product of arrays/vectors"
   ]
  },
  {
   "cell_type": "code",
   "execution_count": 51,
   "id": "10e46043",
   "metadata": {
    "scrolled": true
   },
   "outputs": [
    {
     "name": "stdout",
     "output_type": "stream",
     "text": [
      "5.0\n",
      "5.0\n",
      "2.8284271247461903\n",
      "8.0\n"
     ]
    }
   ],
   "source": [
    "#some common statistical operations\n",
    "A = np.array([1, 3, 5, 7, 9])\n",
    "print(np.mean(A))\n",
    "print(np.median(A))\n",
    "print(np.std(A))\n",
    "print(np.var(A))"
   ]
  },
  {
   "cell_type": "code",
   "execution_count": 52,
   "id": "63f69328",
   "metadata": {},
   "outputs": [
    {
     "name": "stdout",
     "output_type": "stream",
     "text": [
      "[[1 2 3]\n",
      " [4 5 6]]\n",
      "1\n",
      "minimum among columns [1 4]\n",
      "max among columns [3 6]\n",
      "[5 7 9]\n",
      "720\n"
     ]
    }
   ],
   "source": [
    "#Using min max functions for filtering arrays\n",
    "arr= np.array([[1,2,3],[4,5,6]])\n",
    "print(arr)\n",
    "print(arr.min())\n",
    "print(\"minimum among columns\",arr.min(axis=1))\n",
    "print(\"max among columns\",np.max(arr, axis=1))\n",
    "print(np.sum(arr, axis=0))\n",
    "print(np.product(arr))"
   ]
  },
  {
   "cell_type": "code",
   "execution_count": 53,
   "id": "7b592bf3",
   "metadata": {},
   "outputs": [
    {
     "name": "stdout",
     "output_type": "stream",
     "text": [
      "10.0\n",
      "2.718281828459045\n",
      "0.0\n",
      "1.0\n"
     ]
    }
   ],
   "source": [
    "#Some common mathemeatical operations:\n",
    "print(np.sqrt(100)) #Square root\n",
    "print(np.exp(1)) #Exponential\n",
    "print(np.log(1)) #Logarithm with the base e\n",
    "print(np.log10(10)) #Logarithm with the base 10"
   ]
  },
  {
   "cell_type": "code",
   "execution_count": 54,
   "id": "ae55a4d9",
   "metadata": {},
   "outputs": [
    {
     "name": "stdout",
     "output_type": "stream",
     "text": [
      "[[[[1 2 3]]]]\n",
      "number of dimensions : 4\n",
      "shape (1, 1, 1, 3)\n"
     ]
    }
   ],
   "source": [
    "#defining higher dimension arrays\n",
    "arr = np.array([1, 2, 3], ndmin=4)\n",
    "\n",
    "print(arr)\n",
    "print('number of dimensions :', arr.ndim)\n",
    "print(\"shape\",arr.shape)"
   ]
  },
  {
   "cell_type": "code",
   "execution_count": 55,
   "id": "a7ca2fbc",
   "metadata": {},
   "outputs": [
    {
     "name": "stdout",
     "output_type": "stream",
     "text": [
      "[[[[1 2 3]]]]\n",
      "[[1 2 3]\n",
      " [4 5 6]]\n",
      "3\n",
      "6\n"
     ]
    }
   ],
   "source": [
    "#Values count\n",
    "arr = np.array([1, 2, 3], ndmin=4)\n",
    "arr_2D = np.array([[1, 2, 3],[4,5,6]])\n",
    "print(arr)\n",
    "print(arr_2D)\n",
    "print(arr.size)\n",
    "print(arr_2D.size)"
   ]
  },
  {
   "cell_type": "code",
   "execution_count": 56,
   "id": "b091e2d0",
   "metadata": {},
   "outputs": [
    {
     "name": "stdout",
     "output_type": "stream",
     "text": [
      "[0 0 0]\n",
      "[1.]\n",
      "[[0. 0. 0.]\n",
      " [0. 0. 0.]]\n"
     ]
    }
   ],
   "source": [
    "#Creating Array with 0 and 1: np.zeros() and np.ones()\n",
    "print(np.zeros(3, dtype=int))\n",
    "print(np.ones(1))\n",
    "print(np.zeros((2,3)))"
   ]
  },
  {
   "cell_type": "code",
   "execution_count": 57,
   "id": "0d272b2e",
   "metadata": {},
   "outputs": [
    {
     "name": "stdout",
     "output_type": "stream",
     "text": [
      "[ 0  2  4  6  8 10 12 14 16 18]\n"
     ]
    }
   ],
   "source": [
    "#creating sequences: np.arrange(start, end, interval)\n",
    "print(np.arange(0,20,2))"
   ]
  },
  {
   "cell_type": "code",
   "execution_count": 58,
   "id": "a9c29354",
   "metadata": {},
   "outputs": [
    {
     "name": "stdout",
     "output_type": "stream",
     "text": [
      "[ 0  5 10 15 20]\n"
     ]
    }
   ],
   "source": [
    "#creating arithmetic sequences with specified no. of items:\n",
    "print(np.linspace(0,20,5, endpoint= True, dtype=int))"
   ]
  },
  {
   "cell_type": "code",
   "execution_count": 59,
   "id": "e30c8453",
   "metadata": {},
   "outputs": [
    {
     "name": "stdout",
     "output_type": "stream",
     "text": [
      "5\n",
      "[7 0 7]\n",
      "0.14738517484659897\n",
      "[0.60703389 0.74142314 0.69034484]\n"
     ]
    }
   ],
   "source": [
    "# generating arrays with random number using the random module in NumPy\n",
    "random_test_1 = np.random.randint(10)\n",
    "print(random_test_1)\n",
    "random_test_2 = np.random.randint(10, size=3)\n",
    "print(random_test_2)\n",
    "random_test_3 = np.random.rand() #Generate a random float between 0 and 1\n",
    "print(random_test_3)\n",
    "random_test_4 = np.random.rand(3) #Generate a random float array of size three with values between 0 and 1\n",
    "print(random_test_4)"
   ]
  },
  {
   "cell_type": "code",
   "execution_count": 60,
   "id": "3701cd4b",
   "metadata": {},
   "outputs": [
    {
     "name": "stdout",
     "output_type": "stream",
     "text": [
      "[ 0.06881966 -1.54054845 -0.70033591  0.18424204  0.82161279]\n"
     ]
    }
   ],
   "source": [
    "#creating arrays with random values: np.random.randn()\n",
    "random_array=np.random.randn(5)\n",
    "print(random_array)\n"
   ]
  },
  {
   "cell_type": "code",
   "execution_count": 61,
   "id": "879d9ef3",
   "metadata": {
    "scrolled": true
   },
   "outputs": [
    {
     "name": "stdout",
     "output_type": "stream",
     "text": [
      "[[-0.18426194 -0.72826676  0.62424149]\n",
      " [-0.22590893  2.24833884  0.2285751 ]]\n",
      "[[0 5 3]\n",
      " [2 5 9]]\n",
      "[[0.46615284 0.51319463 0.63705125]\n",
      " [0.01155146 0.73650662 0.73144497]]\n"
     ]
    }
   ],
   "source": [
    "#random 2-D array with three elements: shape 2X3\n",
    "print(np.random.randn(2, 3))\n",
    "print(np.random.randint(10, size=(2,3)))\n",
    "print(np.random.rand(2,3))"
   ]
  },
  {
   "cell_type": "code",
   "execution_count": 62,
   "id": "0df2852b",
   "metadata": {},
   "outputs": [
    {
     "name": "stdout",
     "output_type": "stream",
     "text": [
      "3\n",
      "[[7 6 7]\n",
      " [8 5 7]]\n"
     ]
    }
   ],
   "source": [
    "#generating random array from choice of an array\n",
    "arr= np.random.choice([1, 2, 3, 4])\n",
    "print(arr)\n",
    "arr_2=np.random.choice([5, 6, 7, 8], size=(2,3))\n",
    "print(arr_2)"
   ]
  },
  {
   "cell_type": "code",
   "execution_count": 63,
   "id": "62d3a229",
   "metadata": {},
   "outputs": [
    {
     "name": "stdout",
     "output_type": "stream",
     "text": [
      "[5 2 5 2 1 4 5 7 9 8]\n"
     ]
    }
   ],
   "source": [
    "print(np.random.randint(low= 1, high= 10, size=10)) #creates a 1-D array of 10 items with values ranging from low(including) and high (excluding)"
   ]
  }
 ],
 "metadata": {
  "kernelspec": {
   "display_name": "Python 3 (ipykernel)",
   "language": "python",
   "name": "python3"
  },
  "language_info": {
   "codemirror_mode": {
    "name": "ipython",
    "version": 3
   },
   "file_extension": ".py",
   "mimetype": "text/x-python",
   "name": "python",
   "nbconvert_exporter": "python",
   "pygments_lexer": "ipython3",
   "version": "3.9.13"
  }
 },
 "nbformat": 4,
 "nbformat_minor": 5
}
