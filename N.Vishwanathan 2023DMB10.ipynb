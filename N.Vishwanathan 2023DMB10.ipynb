{
 "cells": [
  {
   "cell_type": "markdown",
   "id": "63164bf9",
   "metadata": {},
   "source": [
    "### POST GRADUATE DIPLOMA IN MANAGEMENT - BATCH 6 - (2023-25) - TERM 2\n",
    "### Course Name: Programming in Python\n",
    "### Exam: Intenal Assessment 3\n",
    "### Max Marks: 30 \n",
    "### Duration: 1 hour 30 minutes\n",
    "### All questions are compulsory. The marks for each question is provided alongside the question. \n",
    "### Answer all questions in the cell provided below each question. You may add more cells.\n",
    "### Email your answersheet (this same notebook) back to gopal.roy@mse.ac.in"
   ]
  },
  {
   "cell_type": "markdown",
   "id": "ee1b2b0c",
   "metadata": {},
   "source": [
    "# ---------------------------------------------------------------------------------------------------------------"
   ]
  },
  {
   "cell_type": "markdown",
   "id": "ae9464bb",
   "metadata": {},
   "source": [
    "# Note\n",
    "### Import/read the sales_data.csv data in a dataframe named sales_df and answer the following questions:"
   ]
  },
  {
   "cell_type": "markdown",
   "id": "7535dbcf",
   "metadata": {},
   "source": [
    "### Question 1: Answer the following (6 marks)\n",
    "- #### a) Display the column names.\n",
    "- #### b) Display the data types of each column.\n",
    "- #### c) Display the non-null values for each column.\n",
    "- #### d) What is the shape of the sales dataset?\n",
    "- #### e) Display the top 5 rows of the sales dataset.\n",
    "- #### f) Display the bottom 6 rows of the sales dataset.\n",
    "\n",
    "\n"
   ]
  },
  {
   "cell_type": "code",
   "execution_count": 63,
   "id": "4e04721d",
   "metadata": {},
   "outputs": [
    {
     "name": "stdout",
     "output_type": "stream",
     "text": [
      "---------------------------------------------------------------------------\n",
      "Index(['Category', 'Gender', 'Location', 'Discount', 'Quantity_Sold',\n",
      "       'Unit_Price', 'Total_Sales', 'Profit'],\n",
      "      dtype='object')\n",
      "---------------------------------------------------------------------------\n",
      "Category          object\n",
      "Gender            object\n",
      "Location          object\n",
      "Discount         float64\n",
      "Quantity_Sold    float64\n",
      "Unit_Price       float64\n",
      "Total_Sales      float64\n",
      "Profit           float64\n",
      "dtype: object\n",
      "---------------------------------------------------------------------------\n",
      "<class 'pandas.core.frame.DataFrame'>\n",
      "RangeIndex: 300 entries, 0 to 299\n",
      "Data columns (total 8 columns):\n",
      " #   Column         Non-Null Count  Dtype  \n",
      "---  ------         --------------  -----  \n",
      " 0   Category       300 non-null    object \n",
      " 1   Gender         300 non-null    object \n",
      " 2   Location       300 non-null    object \n",
      " 3   Discount       291 non-null    float64\n",
      " 4   Quantity_Sold  295 non-null    float64\n",
      " 5   Unit_Price     300 non-null    float64\n",
      " 6   Total_Sales    295 non-null    float64\n",
      " 7   Profit         295 non-null    float64\n",
      "dtypes: float64(5), object(3)\n",
      "memory usage: 18.9+ KB\n",
      "None\n",
      "---------------------------------------------------------------------------\n",
      "(300, 8)\n",
      "---------------------------------------------------------------------------\n",
      "      Category  Gender Location  Discount  Quantity_Sold  Unit_Price  \\\n",
      "0    Furniture    Male    North       1.0           70.0   63.584652   \n",
      "1  Electronics  Female    North       1.0           33.0   16.036883   \n",
      "2    Furniture    Male    North       1.0           53.0   77.496442   \n",
      "3    Furniture    Male     East       1.0           22.0   28.891503   \n",
      "4  Electronics  Female     East       0.0           21.0   90.824886   \n",
      "\n",
      "   Total_Sales       Profit  \n",
      "0  4450.925609  1989.197349  \n",
      "1   529.217138   202.872845  \n",
      "2  4107.311444  1785.880913  \n",
      "3   635.613074   240.890099  \n",
      "4  1907.322607   709.631409  \n",
      "---------------------------------------------------------------------------\n",
      "        Category  Gender Location  Discount  Quantity_Sold  Unit_Price  \\\n",
      "294  Electronics  Female     East       1.0           86.0   60.915877   \n",
      "295     Clothing  Female     West       1.0           92.0   34.032544   \n",
      "296     Clothing  Female    North       0.0           63.0   89.076699   \n",
      "297     Clothing  Female     East       1.0           61.0   81.768342   \n",
      "298     Clothing    Male    North       0.0           49.0   69.260665   \n",
      "299     Clothing  Female    South       0.0           71.0   86.552356   \n",
      "\n",
      "     Total_Sales       Profit  \n",
      "294  5238.765401  1453.757858  \n",
      "295  3130.994077  1400.358710  \n",
      "296  5611.832023   958.837147  \n",
      "297  4987.868859  1880.677853  \n",
      "298  3393.772591  1477.126338  \n",
      "299  6145.217249  2936.465563  \n",
      "---------------------------------------------------------------------------\n"
     ]
    }
   ],
   "source": [
    "import pandas as pd \n",
    "import numpy as np \n",
    "\n",
    "df = pd.read_csv(\"sales_data.csv\")\n",
    "print(\"---------------------------------------------------------------------------\")\n",
    "print(df.columns)\n",
    "print(\"---------------------------------------------------------------------------\")\n",
    "print(df.dtypes)\n",
    "print(\"---------------------------------------------------------------------------\")\n",
    "print(df.info())\n",
    "print(\"---------------------------------------------------------------------------\")\n",
    "print(df.shape)\n",
    "print(\"---------------------------------------------------------------------------\")\n",
    "print(df.head(5))\n",
    "print(\"---------------------------------------------------------------------------\")\n",
    "print(df.tail(6))\n",
    "print(\"---------------------------------------------------------------------------\")\n"
   ]
  },
  {
   "cell_type": "markdown",
   "id": "781b3a16",
   "metadata": {},
   "source": [
    "### Question 2: Make a copy and use the copy dataframe for all the operations below (6 marks)\n",
    "\n",
    "- #### a) Create a copy of the sales dataset and name it sales_copy.\n",
    "- #### b) Replace \"Male\" with \"M\" and \"Female\" with \"F\" in the Gender column.\n",
    "- #### c) Delete the 'Discount' column from the sales_copy dataframe.\n",
    "- #### d) Rename the 'Profit' column to 'Profit_Margin' in the sales_copy dataframe.\n",
    "- #### e) Show the summary statistics for the numeric columns in the sales_copy dataframe.\n",
    "- #### f) Create a new dataframe named selected_data containing only the 'Category', 'Gender', 'Location', and 'Total_Sales' columns from the sales_copy dataframe where 'Total_Sales' is greater than 500."
   ]
  },
  {
   "cell_type": "code",
   "execution_count": 62,
   "id": "7def6df7",
   "metadata": {},
   "outputs": [
    {
     "name": "stdout",
     "output_type": "stream",
     "text": [
      "-----------------------------------------------------------------------------\n",
      "      Category  Gender Location  Discount  Quantity_Sold  Unit_Price  \\\n",
      "0    Furniture    Male    North       1.0           70.0   63.584652   \n",
      "1  Electronics  Female    North       1.0           33.0   16.036883   \n",
      "2    Furniture    Male    North       1.0           53.0   77.496442   \n",
      "3    Furniture    Male     East       1.0           22.0   28.891503   \n",
      "4  Electronics  Female     East       0.0           21.0   90.824886   \n",
      "\n",
      "   Total_Sales       Profit  \n",
      "0  4450.925609  1989.197349  \n",
      "1   529.217138   202.872845  \n",
      "2  4107.311444  1785.880913  \n",
      "3   635.613074   240.890099  \n",
      "4  1907.322607   709.631409  \n",
      "-----------------------------------------------------------------------------\n",
      "      Category Gender Location  Discount  Quantity_Sold  Unit_Price  \\\n",
      "0    Furniture      M    North       1.0           70.0   63.584652   \n",
      "1  Electronics      F    North       1.0           33.0   16.036883   \n",
      "2    Furniture      M    North       1.0           53.0   77.496442   \n",
      "3    Furniture      M     East       1.0           22.0   28.891503   \n",
      "4  Electronics      F     East       0.0           21.0   90.824886   \n",
      "\n",
      "   Total_Sales       Profit  \n",
      "0  4450.925609  1989.197349  \n",
      "1   529.217138   202.872845  \n",
      "2  4107.311444  1785.880913  \n",
      "3   635.613074   240.890099  \n",
      "4  1907.322607   709.631409  \n",
      "-----------------------------------------------------------------------------\n",
      "    Category Gender Location  Quantity_Sold  Unit_Price  Total_Sales  \\\n",
      "0  Furniture      M    North           70.0   63.584652  4450.925609   \n",
      "\n",
      "        Profit  \n",
      "0  1989.197349  \n",
      "-----------------------------------------------------------------------------\n",
      "    Category Gender Location  Quantity_Sold  Unit_Price  Total_Sales  \\\n",
      "0  Furniture      M    North           70.0   63.584652  4450.925609   \n",
      "\n",
      "   Profit_Margin  \n",
      "0    1989.197349  \n",
      "-----------------------------------------------------------------------------\n",
      "       Quantity_Sold  Unit_Price  Total_Sales  Profit_Margin\n",
      "count     295.000000  300.000000   295.000000     295.000000\n",
      "mean       48.457627   54.484539  2650.758730     826.636125\n",
      "std        27.779208   26.563637  2068.785574     782.428655\n",
      "min         1.000000   10.989625    31.764141       4.093742\n",
      "25%        26.000000   30.787620   962.502931     240.569373\n",
      "50%        49.000000   54.578703  2154.752314     622.993240\n",
      "75%        71.000000   78.362227  3830.125534    1202.062318\n",
      "max        99.000000   99.814070  9592.341710    4392.589024\n",
      "-----------------------------------------------------------------------------\n",
      "    Category Gender Location  Total_Sales\n",
      "0  Furniture      M    North  4450.925609\n"
     ]
    }
   ],
   "source": [
    "sales_copy = df.copy()\n",
    "print(\"-----------------------------------------------------------------------------\")\n",
    "print(sales_copy.head()) \n",
    "sales_copy[\"Gender\"] = sales_copy[\"Gender\"].replace({\"Male\": \"M\", \"Female\":\"F\"})\n",
    "print(\"-----------------------------------------------------------------------------\")\n",
    "print(sales_copy.head())\n",
    "\n",
    "del sales_copy[\"Discount\"]\n",
    "print(\"-----------------------------------------------------------------------------\")\n",
    "print(sales_copy.head(1))\n",
    "\n",
    "sales_copy.rename(columns={\"Profit\": \"Profit_Margin\"}, inplace=True)\n",
    "print(\"-----------------------------------------------------------------------------\")\n",
    "print(sales_copy.head(1))\n",
    "\n",
    "print(\"-----------------------------------------------------------------------------\")\n",
    "print(sales_copy.describe())\n",
    "\n",
    "selected_data = sales_copy[sales_copy[\"Total_Sales\"]> 500][[\"Category\", \"Gender\",\"Location\",\"Total_Sales\"]]\n",
    "print(\"-----------------------------------------------------------------------------\")\n",
    "print(selected_data.head(1))\n"
   ]
  },
  {
   "cell_type": "markdown",
   "id": "301f8e79",
   "metadata": {},
   "source": [
    "### Question 3: create another copy of sales_data.csv named sales_newcopy and answer the following (6 marks)\n",
    "- #### a) How many missing values are there in each column of the sales_newcopy dataframe?\n",
    "- #### b) Replace all missing values in the sales_newcopy dataframe with zeros.\n",
    "- #### c) How many customers received a discount ('Discount' column value = 1), and how many did not?\n",
    "- #### d) What is the maximum value of the Unit_Price column?\n",
    "- #### e) What is the mean value of the Quantity_Sold column?\n",
    "- #### f) What is the median value of the Profit column?"
   ]
  },
  {
   "cell_type": "code",
   "execution_count": 64,
   "id": "1af795f7",
   "metadata": {},
   "outputs": [
    {
     "name": "stdout",
     "output_type": "stream",
     "text": [
      "---------------------------------------------------------------------------\n",
      "Category         0\n",
      "Gender           0\n",
      "Location         0\n",
      "Discount         9\n",
      "Quantity_Sold    5\n",
      "Unit_Price       0\n",
      "Total_Sales      5\n",
      "Profit           5\n",
      "dtype: int64\n",
      "---------------------------------------------------------------------------\n",
      "Category         0\n",
      "Gender           0\n",
      "Location         0\n",
      "Discount         0\n",
      "Quantity_Sold    0\n",
      "Unit_Price       0\n",
      "Total_Sales      0\n",
      "Profit           0\n",
      "dtype: int64\n",
      "---------------------------------------------------------------------------\n",
      "Discount\n",
      "0.0    163\n",
      "1.0    137\n",
      "Name: count, dtype: int64\n",
      "---------------------------------------------------------------------------\n",
      "99.81406995\n",
      "---------------------------------------------------------------------------\n",
      "47.65\n",
      "---------------------------------------------------------------------------\n",
      "596.7017682000001\n"
     ]
    }
   ],
   "source": [
    "sales_newcopy = df.copy()\n",
    "print(\"---------------------------------------------------------------------------\")\n",
    "print(sales_newcopy.isnull().sum())\n",
    "\n",
    "sales_newcopy = sales_newcopy.fillna(0)\n",
    "print(\"---------------------------------------------------------------------------\")\n",
    "print(sales_newcopy.isnull().sum())\n",
    "\n",
    "print(\"---------------------------------------------------------------------------\")\n",
    "print(sales_newcopy[\"Discount\"].value_counts())\n",
    "\n",
    "print(\"---------------------------------------------------------------------------\")\n",
    "print(sales_newcopy[\"Unit_Price\"].max())\n",
    "\n",
    "print(\"---------------------------------------------------------------------------\")\n",
    "print(sales_newcopy[\"Quantity_Sold\"].mean())\n",
    "\n",
    "print(\"---------------------------------------------------------------------------\")\n",
    "print(sales_newcopy[\"Profit\"].median())\n"
   ]
  },
  {
   "cell_type": "markdown",
   "id": "c421b0bf",
   "metadata": {},
   "source": [
    "### Question 4: Group the sales_newcopy dataframe by the 'Category' column and use aggregate functions to calculate the min, max, mean, sum, and standard deviation of 'Unit_Price', 'Quantity_Sold', and 'Total_Sales' for each category. Display the resulting summary statistics. [6 Marks]"
   ]
  },
  {
   "cell_type": "code",
   "execution_count": 53,
   "id": "b092b627",
   "metadata": {},
   "outputs": [
    {
     "name": "stdout",
     "output_type": "stream",
     "text": [
      "            Unit_Price                                                \\\n",
      "                   min        max       mean          sum        std   \n",
      "Category                                                               \n",
      "Clothing     11.170173  98.895015  57.852828  5438.165820  27.615348   \n",
      "Electronics  10.989625  98.596196  52.734767  5220.741903  26.832837   \n",
      "Furniture    12.438639  99.814070  53.144429  5686.453900  25.316502   \n",
      "\n",
      "            Quantity_Sold                                     Total_Sales  \\\n",
      "                      min   max       mean     sum        std         min   \n",
      "Category                                                                    \n",
      "Clothing              0.0  97.0  48.989362  4605.0  29.936670         0.0   \n",
      "Electronics           0.0  97.0  43.101010  4267.0  27.526423         0.0   \n",
      "Furniture             0.0  99.0  50.682243  5423.0  27.059891         0.0   \n",
      "\n",
      "                                                                   \n",
      "                     max         mean            sum          std  \n",
      "Category                                                           \n",
      "Clothing     9592.341710  2876.846662  270423.586198  2375.731489  \n",
      "Electronics  7074.588102  2148.298364  212681.538078  1695.684454  \n",
      "Furniture    8630.850343  2793.165429  298868.700952  2071.280061  \n"
     ]
    }
   ],
   "source": [
    "summary_statistics = sales_newcopy.groupby('Category').agg({\n",
    "    'Unit_Price': ['min', 'max', 'mean', 'sum', 'std'],\n",
    "    'Quantity_Sold': ['min', 'max', 'mean', 'sum', 'std'],\n",
    "    'Total_Sales': ['min', 'max', 'mean', 'sum', 'std']\n",
    "})\n",
    "\n",
    "print(summary_statistics)"
   ]
  },
  {
   "cell_type": "markdown",
   "id": "7a532919",
   "metadata": {},
   "source": [
    "### Question 5: Create a pivot table using the sales_newcopy dataframe, where the rows are defined by the 'Category' and 'Discount' columns, and the values are the mean of 'Unit_Price', 'Quantity_Sold', and 'Profit'. Reset the index of the created pivot table. Display the resulting pivot table. [6 Marks]"
   ]
  },
  {
   "cell_type": "code",
   "execution_count": 58,
   "id": "e46fd07f",
   "metadata": {},
   "outputs": [
    {
     "name": "stdout",
     "output_type": "stream",
     "text": [
      "      Category  Discount      Profit  Quantity_Sold  Unit_Price\n",
      "0     Clothing       0.0  850.263225      49.268293   59.264339\n",
      "1     Clothing       1.0  896.382414      48.773585   56.760904\n",
      "2  Electronics       0.0  683.138262      46.155172   55.423938\n",
      "3  Electronics       1.0  685.447744      38.780488   48.930573\n",
      "4    Furniture       0.0  898.854835      52.703125   50.524846\n"
     ]
    }
   ],
   "source": [
    "pivot_table = pd.pivot_table(\n",
    "    sales_newcopy,\n",
    "    values=['Unit_Price', 'Quantity_Sold', 'Profit'],\n",
    "    index=['Category', 'Discount'],\n",
    "    aggfunc='mean'\n",
    ")\n",
    "\n",
    "pivot_table = pivot_table.reset_index()\n",
    "\n",
    "\n",
    "print(pivot_table.head())"
   ]
  }
 ],
 "metadata": {
  "kernelspec": {
   "display_name": "Python 3 (ipykernel)",
   "language": "python",
   "name": "python3"
  },
  "language_info": {
   "codemirror_mode": {
    "name": "ipython",
    "version": 3
   },
   "file_extension": ".py",
   "mimetype": "text/x-python",
   "name": "python",
   "nbconvert_exporter": "python",
   "pygments_lexer": "ipython3",
   "version": "3.9.13"
  }
 },
 "nbformat": 4,
 "nbformat_minor": 5
}
