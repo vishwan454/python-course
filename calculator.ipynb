{
 "cells": [
  {
   "cell_type": "code",
   "execution_count": 1,
   "metadata": {},
   "outputs": [],
   "source": [
    "import numpy as np "
   ]
  },
  {
   "cell_type": "code",
   "execution_count": 36,
   "metadata": {},
   "outputs": [
    {
     "name": "stdout",
     "output_type": "stream",
     "text": [
      "{'mean': [[1.0, 4.0, 7.0], [3.0, 4.0, 5.0], 4.0], 'varriance': [[0.6666666666666666, 0.6666666666666666, 0.6666666666666666], [6.0, 6.0, 6.0], 6.666666666666667], 'standard deviation': [[0.816496580927726, 0.816496580927726, 0.816496580927726], [2.449489742783178, 2.449489742783178, 2.449489742783178], 2.581988897471611], 'max': [[2, 5, 8], [6, 7, 8], 8], 'min': [[0, 3, 6], [0, 1, 2], 0], 'sum': [[3, 12, 21], [9, 12, 15], 36]}\n"
     ]
    }
   ],
   "source": [
    "def calculate(list):\n",
    "    dict ={}\n",
    "    if len(list) < 9:\n",
    "        raise ValueError(\"List must contain nine numbers.\")\n",
    "    else:\n",
    "        list = np.reshape(list, (3,3))\n",
    "        mean_row = []\n",
    "        mean_column = []\n",
    "        var_row = []\n",
    "        var_col = []\n",
    "        std_row = []\n",
    "        std_col = []\n",
    "        max_row = []\n",
    "        max_col = []\n",
    "        min_row = []\n",
    "        miin_col = []\n",
    "        sum_row = []\n",
    "        sum_col = []\n",
    "        row_slice = np.split(list, 3, axis=0)\n",
    "        column_slice = np.split(list, 3, axis=1)\n",
    "\n",
    "        for i in row_slice:\n",
    "            mean_row.append(np.mean(i))\n",
    "            var_row.append(np.var(i))\n",
    "            std_row.append(np.std(i))\n",
    "            max_row.append(np.max(i))\n",
    "            min_row.append(np.min(i))\n",
    "            sum_row.append(np.sum(i))\n",
    "\n",
    "        for i in column_slice:\n",
    "            mean_column.append(np.mean(i))\n",
    "            var_col.append(np.var(i))\n",
    "            std_col.append(np.std(i))\n",
    "            max_col.append(np.max(i))\n",
    "            miin_col.append(np.min(i))\n",
    "            sum_col.append(np.sum(i))\n",
    "\n",
    "        total_mean = np.mean(list)\n",
    "        tot_var = np.var(list)\n",
    "        tot_std = np.std(list)\n",
    "        tot_max = np.max(list)\n",
    "        tot_min = np.min(list)\n",
    "        tot_sum = np.sum(list)\n",
    "\n",
    "        dict[\"mean\"] = [mean_row,mean_column,total_mean]\n",
    "        dict[\"varriance\"] = [var_row, var_col,tot_var]\n",
    "        dict[\"standard deviation\"] = [std_row,std_col, tot_std]\n",
    "        dict[\"max\"] = [max_row,max_col, tot_max]\n",
    "        dict[\"min\"] = [min_row, miin_col, tot_min]\n",
    "        dict[\"sum\"] = [sum_row, sum_col, tot_sum]\n",
    "\n",
    "\n",
    "    return dict\n",
    "    \n",
    "print(calculate([0,1,2,3,4,5,6,7,8]))"
   ]
  },
  {
   "cell_type": "code",
   "execution_count": null,
   "metadata": {},
   "outputs": [],
   "source": []
  },
  {
   "cell_type": "code",
   "execution_count": null,
   "metadata": {},
   "outputs": [],
   "source": []
  },
  {
   "cell_type": "code",
   "execution_count": null,
   "metadata": {},
   "outputs": [],
   "source": []
  },
  {
   "cell_type": "code",
   "execution_count": null,
   "metadata": {},
   "outputs": [],
   "source": []
  },
  {
   "cell_type": "code",
   "execution_count": null,
   "metadata": {},
   "outputs": [],
   "source": []
  },
  {
   "cell_type": "code",
   "execution_count": null,
   "metadata": {},
   "outputs": [],
   "source": []
  }
 ],
 "metadata": {
  "kernelspec": {
   "display_name": "Python 3",
   "language": "python",
   "name": "python3"
  },
  "language_info": {
   "codemirror_mode": {
    "name": "ipython",
    "version": 3
   },
   "file_extension": ".py",
   "mimetype": "text/x-python",
   "name": "python",
   "nbconvert_exporter": "python",
   "pygments_lexer": "ipython3",
   "version": "3.11.4"
  }
 },
 "nbformat": 4,
 "nbformat_minor": 2
}
