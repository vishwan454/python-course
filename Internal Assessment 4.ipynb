{
 "cells": [
  {
   "cell_type": "markdown",
   "id": "63164bf9",
   "metadata": {},
   "source": [
    "### POST GRADUATE DIPLOMA IN MANAGEMENT - BATCH 6 - (2023-25) - TERM 2\n",
    "### Course Name: Programming in Python\n",
    "### Exam: Intenal Assessment 4\n",
    "### Max Marks: 30 \n",
    "### Duration: 1 hour 30 minutes\n",
    "### All questions are compulsory. The marks for each question is provided alongside the question. \n",
    "### Answer all questions in the cell provided below each question. You may add more cells.\n",
    "### Email your answersheet (this same notebook) back to gopal.roy@mse.ac.in"
   ]
  },
  {
   "cell_type": "markdown",
   "id": "ee1b2b0c",
   "metadata": {},
   "source": [
    "# ---------------------------------------------------------------------------------------------------------------"
   ]
  },
  {
   "cell_type": "markdown",
   "id": "ae9464bb",
   "metadata": {},
   "source": [
    "# Note\n",
    "### Import/read the SalesData.csv data in a Pandas dataframe named sales_df and answer the following questions:"
   ]
  },
  {
   "cell_type": "markdown",
   "id": "7535dbcf",
   "metadata": {},
   "source": [
    "### Question 1: Answer the following (5 marks)\n",
    "#### a) What is the total number of observations in the dataset?\n",
    "#### b) Check for any missing values in the dataset.\n",
    "#### c) Handle the missing data appropriately.\n",
    "#### d) Identify unique categories in the \"Category\" column and count the number of occurrences for each category.\n",
    "#### e) Visualize the distribution of purchases over different categories using a bar chart."
   ]
  },
  {
   "cell_type": "code",
   "execution_count": 24,
   "id": "4e04721d",
   "metadata": {},
   "outputs": [
    {
     "name": "stdout",
     "output_type": "stream",
     "text": [
      "     Category Purchase_Date  Gender Location    Purchase_Platform  Discount  \\\n",
      "0  Appliances    07-06-2022    Male     West             In-store         0   \n",
      "1       Books    08-02-2022  Female     West  Online: Own-website         1   \n",
      "2   Furniture    23-03-2022  Female     West  Online: Own-website         1   \n",
      "\n",
      "   Quantity_Sold  Unit_Price  Total_Sales      Profit  \n",
      "0           17.0   24.215934   411.670879  164.445265  \n",
      "1            9.0   72.630921   653.678286  148.407665  \n",
      "2           41.0   81.393522  3337.134383  333.893234  \n",
      "------------------------------------------------------------------------\n",
      "<class 'pandas.core.frame.DataFrame'>\n",
      "RangeIndex: 500 entries, 0 to 499\n",
      "Data columns (total 10 columns):\n",
      " #   Column             Non-Null Count  Dtype  \n",
      "---  ------             --------------  -----  \n",
      " 0   Category           500 non-null    object \n",
      " 1   Purchase_Date      500 non-null    object \n",
      " 2   Gender             500 non-null    object \n",
      " 3   Location           500 non-null    object \n",
      " 4   Purchase_Platform  500 non-null    object \n",
      " 5   Discount           500 non-null    int64  \n",
      " 6   Quantity_Sold      481 non-null    float64\n",
      " 7   Unit_Price         485 non-null    float64\n",
      " 8   Total_Sales        480 non-null    float64\n",
      " 9   Profit             480 non-null    float64\n",
      "dtypes: float64(4), int64(1), object(5)\n",
      "memory usage: 39.2+ KB\n",
      "None\n",
      "--------------------------------------------------------------------------\n",
      "Category              0\n",
      "Purchase_Date         0\n",
      "Gender                0\n",
      "Location              0\n",
      "Purchase_Platform     0\n",
      "Discount              0\n",
      "Quantity_Sold        19\n",
      "Unit_Price           15\n",
      "Total_Sales          20\n",
      "Profit               20\n",
      "dtype: int64\n",
      "--------------------------------------------------------------------------\n",
      "0\n",
      "-----------------------------------------------------------------------------\n",
      "0\n",
      "_-----------------------------------------------------------------------------------\n",
      "0\n",
      "--------------------------------------------------------------------------------\n",
      "0\n",
      "---------------------------------------------------------------------------------------------\n"
     ]
    },
    {
     "ename": "AttributeError",
     "evalue": "'numpy.ndarray' object has no attribute 'values_count'",
     "output_type": "error",
     "traceback": [
      "\u001b[1;31m---------------------------------------------------------------------------\u001b[0m",
      "\u001b[1;31mAttributeError\u001b[0m                            Traceback (most recent call last)",
      "Cell \u001b[1;32mIn[24], line 23\u001b[0m\n\u001b[0;32m     21\u001b[0m \u001b[38;5;28mprint\u001b[39m(df[\u001b[38;5;124m\"\u001b[39m\u001b[38;5;124mProfit\u001b[39m\u001b[38;5;124m\"\u001b[39m]\u001b[38;5;241m.\u001b[39misna()\u001b[38;5;241m.\u001b[39msum())\n\u001b[0;32m     22\u001b[0m \u001b[38;5;28mprint\u001b[39m(\u001b[38;5;124m\"\u001b[39m\u001b[38;5;124m---------------------------------------------------------------------------------------------\u001b[39m\u001b[38;5;124m\"\u001b[39m)\n\u001b[1;32m---> 23\u001b[0m \u001b[43mdf\u001b[49m\u001b[43m[\u001b[49m\u001b[38;5;124;43m\"\u001b[39;49m\u001b[38;5;124;43mCategory\u001b[39;49m\u001b[38;5;124;43m\"\u001b[39;49m\u001b[43m]\u001b[49m\u001b[38;5;241;43m.\u001b[39;49m\u001b[43munique\u001b[49m\u001b[43m(\u001b[49m\u001b[43m)\u001b[49m\u001b[38;5;241;43m.\u001b[39;49m\u001b[43mvalues_count\u001b[49m(\n\u001b[0;32m     24\u001b[0m     \n\u001b[0;32m     25\u001b[0m )\n",
      "\u001b[1;31mAttributeError\u001b[0m: 'numpy.ndarray' object has no attribute 'values_count'"
     ]
    }
   ],
   "source": [
    "import pandas as pd \n",
    "\n",
    "df = pd.read_csv(\"SalesData.csv\")\n",
    "print(df.head(3))\n",
    "print(\"------------------------------------------------------------------------\")\n",
    "print(df.info())\n",
    "print(\"--------------------------------------------------------------------------\")\n",
    "print(df.isna().sum())\n",
    "print(\"--------------------------------------------------------------------------\")\n",
    "df[\"Quantity_Sold\"] = df[\"Quantity_Sold\"].fillna(0.00)\n",
    "print(df[\"Quantity_Sold\"].isna().sum()) \n",
    "print(\"-----------------------------------------------------------------------------\")\n",
    "mean = df[\"Unit_Price\"].mean()\n",
    "df[\"Unit_Price\"] = df[\"Unit_Price\"].fillna(mean)\n",
    "print(df[\"Unit_Price\"].isna().sum())\n",
    "print(\"_-----------------------------------------------------------------------------------\")\n",
    "df[\"Total_Sales\"] = df[\"Total_Sales\"].fillna(df[\"Quantity_Sold\"]*df[\"Unit_Price\"])\n",
    "print(df[\"Total_Sales\"].isna().sum())\n",
    "print(\"--------------------------------------------------------------------------------\")\n",
    "df[\"Profit\"] = df[\"Profit\"].fillna(df[\"Total_Sales\"]- (df[\"Quantity_Sold\"]*df[\"Unit_Price\"]))\n",
    "print(df[\"Profit\"].isna().sum())\n",
    "print(\"---------------------------------------------------------------------------------------------\")\n",
    "df[\"Category\"].unique().values_count()"
   ]
  },
  {
   "cell_type": "markdown",
   "id": "781b3a16",
   "metadata": {},
   "source": [
    "### Question 2:   Answer the following (5 marks)\n",
    "#### a) Convert the \"Purchase_Date\" column to a datetime format.\n",
    "#### b) Create a new column \"Month\" and \"Quarter\" based on the purchase date.\n",
    "#### c) Calculate the total sales for each month and visualize the monthly sales trend using a line chart."
   ]
  },
  {
   "cell_type": "code",
   "execution_count": null,
   "id": "7def6df7",
   "metadata": {},
   "outputs": [],
   "source": []
  },
  {
   "cell_type": "markdown",
   "id": "301f8e79",
   "metadata": {},
   "source": [
    "### Question 3: Answer the following (5 marks)\n",
    "#### a) Calculate the total sales and profit for each gender and plot them in pie charts.\n",
    "#### b) Create a pivot table that summarizes the total sales for each combination of \"Gender\" and \"Category.\"\n",
    "#### c) Visualize the pivot table using a heatmap to represent the total sales across different gender-category combinations."
   ]
  },
  {
   "cell_type": "code",
   "execution_count": null,
   "id": "1af795f7",
   "metadata": {},
   "outputs": [],
   "source": []
  },
  {
   "cell_type": "markdown",
   "id": "c421b0bf",
   "metadata": {},
   "source": [
    "### Question 4: Answer the following [5 Marks]\n",
    "#### a) Visualize the relationship between unit price and Profit using a scatter plot.\n",
    "#### b) Visualize the total sales for each location.\n",
    "#### c) Visualize the profit for each location. Which location generates the maximum profit?"
   ]
  },
  {
   "cell_type": "code",
   "execution_count": null,
   "id": "b092b627",
   "metadata": {},
   "outputs": [],
   "source": []
  },
  {
   "cell_type": "markdown",
   "id": "7a532919",
   "metadata": {},
   "source": [
    "### Question 5: Answer the following [5 Marks]\n",
    "#### a) Calculate the total number of customers who received discounts in each quarter of the year and plot the results using a bar chart. Which quarter witnessed maximum discounts?\n",
    "#### b) Create a histogram to visualize the frequency distribution of the quantity sold.\n",
    "#### c) Create a heatmap for month-wise sales for all categories of products"
   ]
  },
  {
   "cell_type": "code",
   "execution_count": null,
   "id": "e46fd07f",
   "metadata": {},
   "outputs": [],
   "source": []
  }
 ],
 "metadata": {
  "kernelspec": {
   "display_name": "Python 3 (ipykernel)",
   "language": "python",
   "name": "python3"
  },
  "language_info": {
   "codemirror_mode": {
    "name": "ipython",
    "version": 3
   },
   "file_extension": ".py",
   "mimetype": "text/x-python",
   "name": "python",
   "nbconvert_exporter": "python",
   "pygments_lexer": "ipython3",
   "version": "3.11.4"
  }
 },
 "nbformat": 4,
 "nbformat_minor": 5
}
