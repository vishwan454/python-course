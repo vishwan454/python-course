{
 "cells": [
  {
   "cell_type": "code",
   "execution_count": 1,
   "metadata": {},
   "outputs": [
    {
     "name": "stdout",
     "output_type": "stream",
     "text": [
      "[0, 4, 16, 36, 64]\n"
     ]
    }
   ],
   "source": [
    "even_squares = [x**2 for x in range(10) if x % 2 == 0]\n",
    "print(even_squares)"
   ]
  },
  {
   "cell_type": "code",
   "execution_count": 2,
   "metadata": {},
   "outputs": [
    {
     "name": "stdout",
     "output_type": "stream",
     "text": [
      "[0, 4, 16, 36, 64]\n"
     ]
    }
   ],
   "source": [
    "even_squares1 = list(x**2 for x in range(10) if x % 2 == 0)\n",
    "print(even_squares1)"
   ]
  },
  {
   "cell_type": "code",
   "execution_count": 3,
   "metadata": {},
   "outputs": [
    {
     "name": "stdout",
     "output_type": "stream",
     "text": [
      "[2, 4, 4, 16, 6]\n"
     ]
    }
   ],
   "source": [
    "numbers = [1,2,3,4,5]\n",
    "modified_numbers = [x**2 if x % 2 == 0 else x + 1 for x in numbers]\n",
    "print(modified_numbers)"
   ]
  },
  {
   "cell_type": "code",
   "execution_count": 4,
   "metadata": {},
   "outputs": [
    {
     "ename": "SyntaxError",
     "evalue": "invalid syntax (325093019.py, line 2)",
     "output_type": "error",
     "traceback": [
      "\u001b[1;36m  Cell \u001b[1;32mIn[4], line 2\u001b[1;36m\u001b[0m\n\u001b[1;33m    modified_numbers1 = [x**2 for x in numbers1 if x % 2 == 0 else x + 1]\u001b[0m\n\u001b[1;37m                                                              ^\u001b[0m\n\u001b[1;31mSyntaxError\u001b[0m\u001b[1;31m:\u001b[0m invalid syntax\n"
     ]
    }
   ],
   "source": [
    "numbers1 = [1,2,3,4,5]\n",
    "modified_numbers1 = [x**2 for x in numbers1 if x % 2 == 0 else x + 1]\n",
    "print(modified_numbers1)"
   ]
  },
  {
   "cell_type": "code",
   "execution_count": null,
   "metadata": {},
   "outputs": [
    {
     "name": "stdout",
     "output_type": "stream",
     "text": [
      "[[1, 0, 0], [0, 1, 0], [0, 0, 1]]\n"
     ]
    }
   ],
   "source": [
    "matrix = [[1,0,0],\n",
    "          [0,1,0],\n",
    "          [0,0,1]]\n",
    "print(matrix)"
   ]
  },
  {
   "cell_type": "code",
   "execution_count": null,
   "metadata": {},
   "outputs": [
    {
     "name": "stdout",
     "output_type": "stream",
     "text": [
      "[[1, 0, 0], [0, 1, 0], [0, 0, 1]]\n"
     ]
    }
   ],
   "source": [
    "matrix1 = []\n",
    "for i in range(3):\n",
    "    row = []\n",
    "    for j in range(3):\n",
    "        if i == j:\n",
    "            row.append(1)\n",
    "        else:\n",
    "            row.append(0)\n",
    "    matrix1.append(row)\n",
    "print(matrix1)"
   ]
  },
  {
   "cell_type": "code",
   "execution_count": null,
   "metadata": {},
   "outputs": [
    {
     "name": "stdout",
     "output_type": "stream",
     "text": [
      "[[1, 0, 0], [0, 1, 0], [0, 0, 1]]\n"
     ]
    }
   ],
   "source": [
    "identity_matrix = [[1 if i==j else 0 for j in range(3)] for i in range(3)]\n",
    "print(identity_matrix)"
   ]
  },
  {
   "cell_type": "code",
   "execution_count": null,
   "metadata": {},
   "outputs": [
    {
     "name": "stdout",
     "output_type": "stream",
     "text": [
      "[[1. 0. 0.]\n",
      " [0. 1. 0.]\n",
      " [0. 0. 1.]]\n"
     ]
    }
   ],
   "source": [
    "import numpy as np \n",
    "identity_matrix1 = np.eye(3)\n",
    "print(identity_matrix1)"
   ]
  },
  {
   "cell_type": "code",
   "execution_count": null,
   "metadata": {},
   "outputs": [
    {
     "name": "stdout",
     "output_type": "stream",
     "text": [
      "3\n"
     ]
    }
   ],
   "source": [
    "add_numbers = lambda x, y : x + y \n",
    "result_numbers = add_numbers(1,2)\n",
    "print(result_numbers) "
   ]
  },
  {
   "cell_type": "code",
   "execution_count": null,
   "metadata": {},
   "outputs": [
    {
     "name": "stdout",
     "output_type": "stream",
     "text": [
      "60\n"
     ]
    }
   ],
   "source": [
    "numbers_list = [10,20,30]\n",
    "add_list = lambda x : sum(x)\n",
    "print(add_list(numbers_list))"
   ]
  },
  {
   "cell_type": "code",
   "execution_count": null,
   "metadata": {},
   "outputs": [
    {
     "name": "stdout",
     "output_type": "stream",
     "text": [
      "longest word is strawberry\n"
     ]
    }
   ],
   "source": [
    "words = [\"apple\", \"banana\", \"kiwi\", \"strawberry\", \"orange\",\"\"]\n",
    "longest_fruit = max(words, key = lambda x : len(x))\n",
    "print(\"longest word is \" + longest_fruit)"
   ]
  },
  {
   "cell_type": "code",
   "execution_count": null,
   "metadata": {},
   "outputs": [
    {
     "name": "stdout",
     "output_type": "stream",
     "text": [
      "strawberry\n"
     ]
    }
   ],
   "source": [
    "word = max(words)\n",
    "print(word) "
   ]
  },
  {
   "cell_type": "code",
   "execution_count": null,
   "metadata": {},
   "outputs": [
    {
     "name": "stdout",
     "output_type": "stream",
     "text": [
      "{'name': 'Bob', 'age': 45}\n",
      "<class 'dict'>\n",
      "Bob\n"
     ]
    }
   ],
   "source": [
    "people = [\n",
    "    {\"name\" : \"Alice\", \"age\" : 30},\n",
    "    {\"name\" : \"Bob\", \"age\" : 45},\n",
    "    {\"name\": \"Charlie\", \"age\" : 35}\n",
    "]\n",
    "oldest_person = max(people, key = lambda x : x[\"age\"])  \n",
    "# above print the whole dict whose age is max\n",
    "print(oldest_person)\n",
    "print(type(oldest_person))\n",
    "print(oldest_person[\"name\"])"
   ]
  },
  {
   "cell_type": "code",
   "execution_count": null,
   "metadata": {},
   "outputs": [
    {
     "name": "stdout",
     "output_type": "stream",
     "text": [
      "[1 2 3]\n",
      "[4 5 6 7]\n",
      "<class 'numpy.ndarray'>\n",
      "<class 'numpy.ndarray'>\n"
     ]
    }
   ],
   "source": [
    "array_in_np = np.array([1,2,3])\n",
    "array1 = np.array((4,5,6,7))\n",
    "print(array_in_np)\n",
    "print(array1)\n",
    "print(type(array_in_np))\n",
    "print(type(array1))"
   ]
  },
  {
   "cell_type": "code",
   "execution_count": null,
   "metadata": {},
   "outputs": [
    {
     "name": "stdout",
     "output_type": "stream",
     "text": [
      "10\n",
      "[1 2 3 4 5]\n",
      "[[1 2 3 4 5]\n",
      " [5 6 7 8 9]]\n",
      "[[[ 1  2  3  4  5]\n",
      "  [ 2  4 68 65 44]]\n",
      "\n",
      " [[33  4  6  7 99]\n",
      "  [ 1  2  3  4  5]]]\n"
     ]
    }
   ],
   "source": [
    "zero_array = np.array(10)\n",
    "print(zero_array)\n",
    "\n",
    "one_d_array = np.array([1,2,3,4,5])\n",
    "print(one_d_array)\n",
    "\n",
    "two_d_array = np.array([[1,2,3,4,5],[5,6,7,8,9]])\n",
    "print(two_d_array)\n",
    "\n",
    "three_d_array = np.array([[[1,2,3,4,5],[2,4,68,65,44]],[[33,4,6,7,99],[1,2,3,4,5]]])\n",
    "print(three_d_array)"
   ]
  },
  {
   "cell_type": "code",
   "execution_count": null,
   "metadata": {},
   "outputs": [
    {
     "name": "stdout",
     "output_type": "stream",
     "text": [
      "0\n",
      "3\n"
     ]
    }
   ],
   "source": [
    "print(zero_array.ndim)\n",
    "print(three_d_array.ndim)"
   ]
  },
  {
   "cell_type": "code",
   "execution_count": null,
   "metadata": {},
   "outputs": [
    {
     "name": "stdout",
     "output_type": "stream",
     "text": [
      "[[1 2 3 4 5]\n",
      " [5 6 7 8 9]]\n",
      "2\n"
     ]
    }
   ],
   "source": [
    "print(two_d_array)\n",
    "print(two_d_array[0,1])\n"
   ]
  },
  {
   "cell_type": "code",
   "execution_count": null,
   "metadata": {},
   "outputs": [
    {
     "name": "stdout",
     "output_type": "stream",
     "text": [
      "int32\n"
     ]
    }
   ],
   "source": [
    "print(zero_array.dtype)"
   ]
  },
  {
   "cell_type": "code",
   "execution_count": null,
   "metadata": {},
   "outputs": [],
   "source": []
  }
 ],
 "metadata": {
  "kernelspec": {
   "display_name": "Python 3",
   "language": "python",
   "name": "python3"
  },
  "language_info": {
   "codemirror_mode": {
    "name": "ipython",
    "version": 3
   },
   "file_extension": ".py",
   "mimetype": "text/x-python",
   "name": "python",
   "nbconvert_exporter": "python",
   "pygments_lexer": "ipython3",
   "version": "3.11.4"
  }
 },
 "nbformat": 4,
 "nbformat_minor": 2
}
