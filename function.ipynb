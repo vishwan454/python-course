{
 "cells": [
  {
   "cell_type": "code",
   "execution_count": 4,
   "metadata": {},
   "outputs": [
    {
     "name": "stdout",
     "output_type": "stream",
     "text": [
      "List is empty, Cannot calculate the average \n",
      "4.5\n"
     ]
    }
   ],
   "source": [
    "def calculate_average(num):\n",
    "    if len(num) == 0:\n",
    "        return \"List is empty, Cannot calculate the average \"\n",
    "    total = sum(num)\n",
    "    average = total / len(num)\n",
    "    return average\n",
    "a = []\n",
    "b = [0,1,2,3,4,5,6,7,8,9]\n",
    "result1 = calculate_average(a)\n",
    "result2 = calculate_average(b)\n",
    "print(result1)\n",
    "print(result2)"
   ]
  },
  {
   "cell_type": "code",
   "execution_count": 1,
   "metadata": {},
   "outputs": [
    {
     "name": "stdout",
     "output_type": "stream",
     "text": [
      "the average grade is:91.33\n"
     ]
    }
   ],
   "source": [
    "def calculate_average_grade(dict):\n",
    "    if not dict:\n",
    "        return \"No grades available, Cannot find the average\"\n",
    "    total_grade = sum(dict.values())\n",
    "    average = total_grade/len(dict)\n",
    "    return average\n",
    "\n",
    "student = {\n",
    "    \"math\" : 85,\n",
    "    \"science\" : 90,\n",
    "    \"history\": 99}\n",
    "result = calculate_average_grade(student)\n",
    "\n",
    "print(f\"the average grade is:{result:.2f}\")"
   ]
  },
  {
   "cell_type": "code",
   "execution_count": 4,
   "metadata": {},
   "outputs": [
    {
     "name": "stdout",
     "output_type": "stream",
     "text": [
      "dict_items([('math', 85), ('science', 90), ('history', 99)])\n",
      "('math', 85)\n",
      "('science', 90)\n",
      "('history', 99)\n"
     ]
    }
   ],
   "source": [
    "student = {\n",
    "    \"math\" : 85,\n",
    "    \"science\" : 90,\n",
    "    \"history\": 99}\n",
    "\n",
    "print(student.items())\n",
    "for sub in student.items():\n",
    "    print(sub)\n",
    "    # print(marks)"
   ]
  },
  {
   "cell_type": "code",
   "execution_count": 12,
   "metadata": {},
   "outputs": [
    {
     "name": "stdout",
     "output_type": "stream",
     "text": [
      "future value is 1157.63 rupees\n"
     ]
    }
   ],
   "source": [
    "def calculate_future_values(principal, interest_rate,time_period):\n",
    "    future_value = principal*(1+interest_rate)**time_period\n",
    "    return future_value\n",
    "intital_investement = 1000\n",
    "annula_interestrate = 0.05\n",
    "investment_period = 3 \n",
    "result4 = calculate_future_values(intital_investement,annula_interestrate,investment_period)\n",
    "print(f\"future value is {result4:.2f} rupees\")"
   ]
  },
  {
   "cell_type": "code",
   "execution_count": 7,
   "metadata": {},
   "outputs": [
    {
     "name": "stdout",
     "output_type": "stream",
     "text": [
      "total_sales :28500\n",
      "Average_sales : 7125.00\n",
      "{'total_sales': 28500, 'average_sales': 7125.0, 'max_product': 'product_C', 'max_sales': 10000}\n"
     ]
    }
   ],
   "source": [
    "def analyse_sales(sales_data):\n",
    "    total_sales = sum(sales_data.values())\n",
    "    average_sales = total_sales / len(sales_data)\n",
    "\n",
    "    max_product = None\n",
    "    max_sales = 0\n",
    "\n",
    "    for product , sales in sales_data.items():\n",
    "        if sales > max_sales:\n",
    "            max_product = product\n",
    "            max_sales = sales\n",
    "\n",
    "    \n",
    "    analysis_result = {\n",
    "        \"total_sales\" : total_sales,\n",
    "        \"average_sales\" : average_sales,\n",
    "        \"max_product\" : max_product, \n",
    "        \"max_sales\" : max_sales \n",
    "    }\n",
    "\n",
    "    return analysis_result\n",
    "\n",
    "sales_data = {\n",
    "    \"product_A\" : 5000,\n",
    "    \"product_B\" : 7500,\n",
    "    \"product_C\" : 10000,\n",
    "    \"product_D\" : 6000\n",
    "}\n",
    "\n",
    "result5 = analyse_sales(sales_data)\n",
    "print(f\"total_sales :{result5['total_sales']}\")\n",
    "print(f\"Average_sales : {result5['average_sales']:.2f}\")\n",
    "print(result5)"
   ]
  },
  {
   "cell_type": "code",
   "execution_count": null,
   "metadata": {},
   "outputs": [],
   "source": [
    "# *args unsure number of arguments \n",
    "# **kwargs \n",
    "\n",
    "def calculate(*args):\n",
    "\n",
    "    return \n",
    "def print_student_info(**kwargs):\n",
    "    print(kwargs[\"name\"])"
   ]
  }
 ],
 "metadata": {
  "kernelspec": {
   "display_name": "Python 3",
   "language": "python",
   "name": "python3"
  },
  "language_info": {
   "codemirror_mode": {
    "name": "ipython",
    "version": 3
   },
   "file_extension": ".py",
   "mimetype": "text/x-python",
   "name": "python",
   "nbconvert_exporter": "python",
   "pygments_lexer": "ipython3",
   "version": "3.11.5"
  }
 },
 "nbformat": 4,
 "nbformat_minor": 2
}
